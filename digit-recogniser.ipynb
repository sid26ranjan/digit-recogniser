{
 "cells": [
  {
   "cell_type": "code",
   "execution_count": 1,
   "metadata": {},
   "outputs": [],
   "source": [
    "import pandas as pd\n",
    "import numpy as np\n",
    "import matplotlib.pyplot as plt\n",
    "import matplotlib.image as mpimg"
   ]
  },
  {
   "cell_type": "code",
   "execution_count": 2,
   "metadata": {},
   "outputs": [
    {
     "data": {
      "text/plain": [
       "(42000, 785)"
      ]
     },
     "execution_count": 2,
     "metadata": {},
     "output_type": "execute_result"
    }
   ],
   "source": [
    "train = pd.read_csv(\"../input/digit-recognizer/train.csv\")\n",
    "test = pd.read_csv(\"../input/digit-recognizer/test.csv\")\n",
    "train.shape"
   ]
  },
  {
   "cell_type": "code",
   "execution_count": 3,
   "metadata": {},
   "outputs": [
    {
     "data": {
      "text/plain": [
       "(28000, 784)"
      ]
     },
     "execution_count": 3,
     "metadata": {},
     "output_type": "execute_result"
    }
   ],
   "source": [
    "test.shape"
   ]
  },
  {
   "cell_type": "code",
   "execution_count": 4,
   "metadata": {},
   "outputs": [],
   "source": [
    "Y_train = train[\"label\"]\n",
    "X_train = train.drop(labels = [\"label\"],axis = 1) "
   ]
  },
  {
   "cell_type": "code",
   "execution_count": 5,
   "metadata": {},
   "outputs": [
    {
     "data": {
      "text/plain": [
       "count       784\n",
       "unique        1\n",
       "top       False\n",
       "freq        784\n",
       "dtype: object"
      ]
     },
     "execution_count": 5,
     "metadata": {},
     "output_type": "execute_result"
    }
   ],
   "source": [
    "X_train.isnull().any().describe()"
   ]
  },
  {
   "cell_type": "code",
   "execution_count": 6,
   "metadata": {},
   "outputs": [
    {
     "name": "stdout",
     "output_type": "stream",
     "text": [
      "<class 'pandas.core.frame.DataFrame'>\n",
      "RangeIndex: 42000 entries, 0 to 41999\n",
      "Columns: 784 entries, pixel0 to pixel783\n",
      "dtypes: int64(784)\n",
      "memory usage: 251.2 MB\n"
     ]
    }
   ],
   "source": [
    "X_train.info()"
   ]
  },
  {
   "cell_type": "code",
   "execution_count": 7,
   "metadata": {},
   "outputs": [
    {
     "data": {
      "text/plain": [
       "count       784\n",
       "unique        1\n",
       "top       False\n",
       "freq        784\n",
       "dtype: object"
      ]
     },
     "execution_count": 7,
     "metadata": {},
     "output_type": "execute_result"
    }
   ],
   "source": [
    "test.isnull().any().describe()"
   ]
  },
  {
   "cell_type": "code",
   "execution_count": 8,
   "metadata": {},
   "outputs": [],
   "source": [
    "X_train = X_train / 255.0\n",
    "test = test / 255.0"
   ]
  },
  {
   "cell_type": "code",
   "execution_count": 9,
   "metadata": {},
   "outputs": [],
   "source": [
    "X_train = X_train.values.reshape(-1,28,28,1)\n",
    "test = test.values.reshape(-1,28,28,1)"
   ]
  },
  {
   "cell_type": "code",
   "execution_count": 10,
   "metadata": {},
   "outputs": [
    {
     "name": "stderr",
     "output_type": "stream",
     "text": [
      "Using TensorFlow backend.\n"
     ]
    }
   ],
   "source": [
    "from keras.utils.np_utils import to_categorical"
   ]
  },
  {
   "cell_type": "code",
   "execution_count": 11,
   "metadata": {},
   "outputs": [],
   "source": [
    "Y_train = to_categorical(Y_train, num_classes = 10)"
   ]
  },
  {
   "cell_type": "code",
   "execution_count": 12,
   "metadata": {},
   "outputs": [],
   "source": [
    "from sklearn.model_selection import train_test_split"
   ]
  },
  {
   "cell_type": "code",
   "execution_count": 13,
   "metadata": {},
   "outputs": [],
   "source": [
    "X_train, X_val, Y_train, Y_val = train_test_split(X_train, Y_train, test_size = 0.1, random_state=10)"
   ]
  },
  {
   "cell_type": "code",
   "execution_count": 14,
   "metadata": {},
   "outputs": [
    {
     "data": {
      "image/png": "[encoded data removed]",
      "text/plain": [
       "<Figure size 432x288 with 1 Axes>"
      ]
     },
     "metadata": {
      "needs_background": "light"
     },
     "output_type": "display_data"
    }
   ],
   "source": [
    "g = plt.imshow(X_train[0][:,:,0])"
   ]
  },
  {
   "cell_type": "code",
   "execution_count": 15,
   "metadata": {},
   "outputs": [],
   "source": [
    "from tensorflow import keras\n",
    "from keras.models import Sequential\n",
    "from keras.layers import Dense, Dropout, Flatten, Conv2D, MaxPool2D\n",
    "from keras.optimizers import RMSprop\n",
    "import tensorflow as tf"
   ]
  },
  {
   "cell_type": "code",
   "execution_count": 16,
   "metadata": {},
   "outputs": [],
   "source": [
    "model = tf.keras.models.Sequential([\n",
    "    tf.keras.layers.Conv2D(32, (3, 3), activation='relu', input_shape=(28, 28, 1),padding='same'),\n",
    "    tf.keras.layers.MaxPooling2D(2, 2),\n",
    "    tf.keras.layers.Conv2D(64, (3, 3), activation='relu',padding='same'),\n",
    "    tf.keras.layers.MaxPooling2D(2, 2),\n",
    "    tf.keras.layers.Conv2D(128, (3, 3), activation='relu',padding='same'),\n",
    "    tf.keras.layers.MaxPooling2D(2, 2),\n",
    "    tf.keras.layers.Flatten(),\n",
    "    tf.keras.layers.Dense(512, activation='relu'),\n",
    "    tf.keras.layers.Dense(10, activation='softmax')\n",
    "])"
   ]
  },
  {
   "cell_type": "code",
   "execution_count": 17,
   "metadata": {},
   "outputs": [],
   "source": [
    "model.compile(optimizer = keras.optimizers.RMSprop(learning_rate=0.001, rho=0.9) , loss = \"categorical_crossentropy\", metrics=[\"accuracy\"])"
   ]
  },
  {
   "cell_type": "code",
   "execution_count": 18,
   "metadata": {},
   "outputs": [
    {
     "name": "stdout",
     "output_type": "stream",
     "text": [
      "Train on 37800 samples, validate on 4200 samples\n",
      "Epoch 1/70\n",
      "37800/37800 [==============================] - 5s 119us/sample - loss: 0.2069 - acc: 0.9319 - val_loss: 0.0540 - val_acc: 0.9812\n",
      "Epoch 2/70\n",
      "37800/37800 [==============================] - 3s 67us/sample - loss: 0.0493 - acc: 0.9844 - val_loss: 0.0533 - val_acc: 0.9819\n",
      "Epoch 3/70\n",
      "37800/37800 [==============================] - 3s 68us/sample - loss: 0.0330 - acc: 0.9898 - val_loss: 0.0330 - val_acc: 0.9898\n",
      "Epoch 4/70\n",
      "37800/37800 [==============================] - 3s 67us/sample - loss: 0.0233 - acc: 0.9924 - val_loss: 0.0455 - val_acc: 0.9871\n",
      "Epoch 5/70\n",
      "37800/37800 [==============================] - 3s 68us/sample - loss: 0.0180 - acc: 0.9948 - val_loss: 0.0416 - val_acc: 0.9883\n",
      "Epoch 6/70\n",
      "37800/37800 [==============================] - 3s 67us/sample - loss: 0.0150 - acc: 0.9953 - val_loss: 0.0453 - val_acc: 0.9890\n",
      "Epoch 7/70\n",
      "37800/37800 [==============================] - 3s 68us/sample - loss: 0.0120 - acc: 0.9966 - val_loss: 0.0336 - val_acc: 0.9914\n",
      "Epoch 8/70\n",
      "37800/37800 [==============================] - 3s 68us/sample - loss: 0.0095 - acc: 0.9972 - val_loss: 0.0356 - val_acc: 0.9910\n",
      "Epoch 9/70\n",
      "37800/37800 [==============================] - 3s 68us/sample - loss: 0.0093 - acc: 0.9974 - val_loss: 0.0483 - val_acc: 0.9886\n",
      "Epoch 10/70\n",
      "37800/37800 [==============================] - 3s 67us/sample - loss: 0.0085 - acc: 0.9975 - val_loss: 0.0897 - val_acc: 0.9838\n",
      "Epoch 11/70\n",
      "37800/37800 [==============================] - 3s 67us/sample - loss: 0.0062 - acc: 0.9981 - val_loss: 0.0428 - val_acc: 0.9898\n",
      "Epoch 12/70\n",
      "37800/37800 [==============================] - 3s 69us/sample - loss: 0.0052 - acc: 0.9983 - val_loss: 0.0465 - val_acc: 0.9919\n",
      "Epoch 13/70\n",
      "37800/37800 [==============================] - 3s 68us/sample - loss: 0.0036 - acc: 0.9988 - val_loss: 0.0551 - val_acc: 0.9890\n",
      "Epoch 14/70\n",
      "37800/37800 [==============================] - 3s 66us/sample - loss: 0.0070 - acc: 0.9982 - val_loss: 0.0580 - val_acc: 0.9883\n",
      "Epoch 15/70\n",
      "37800/37800 [==============================] - 3s 67us/sample - loss: 0.0052 - acc: 0.9983 - val_loss: 0.0523 - val_acc: 0.9910\n",
      "Epoch 16/70\n",
      "37800/37800 [==============================] - 3s 68us/sample - loss: 0.0052 - acc: 0.9986 - val_loss: 0.0628 - val_acc: 0.9905\n",
      "Epoch 17/70\n",
      "37800/37800 [==============================] - 3s 67us/sample - loss: 0.0044 - acc: 0.9986 - val_loss: 0.0737 - val_acc: 0.9886\n",
      "Epoch 18/70\n",
      "37800/37800 [==============================] - 3s 68us/sample - loss: 0.0040 - acc: 0.9990 - val_loss: 0.0860 - val_acc: 0.9890\n",
      "Epoch 19/70\n",
      "37800/37800 [==============================] - 3s 68us/sample - loss: 0.0052 - acc: 0.9988 - val_loss: 0.0759 - val_acc: 0.9871\n",
      "Epoch 20/70\n",
      "37800/37800 [==============================] - 3s 69us/sample - loss: 0.0042 - acc: 0.9990 - val_loss: 0.0748 - val_acc: 0.9890\n",
      "Epoch 21/70\n",
      "37800/37800 [==============================] - 3s 68us/sample - loss: 0.0033 - acc: 0.9992 - val_loss: 0.0621 - val_acc: 0.9905\n",
      "Epoch 22/70\n",
      "37800/37800 [==============================] - 3s 68us/sample - loss: 0.0031 - acc: 0.9991 - val_loss: 0.0828 - val_acc: 0.9910\n",
      "Epoch 23/70\n",
      "37800/37800 [==============================] - 3s 68us/sample - loss: 0.0047 - acc: 0.9989 - val_loss: 0.0634 - val_acc: 0.9914\n",
      "Epoch 24/70\n",
      "37800/37800 [==============================] - 3s 67us/sample - loss: 0.0031 - acc: 0.9993 - val_loss: 0.0987 - val_acc: 0.9921\n",
      "Epoch 25/70\n",
      "37800/37800 [==============================] - 3s 68us/sample - loss: 0.0034 - acc: 0.9992 - val_loss: 0.0715 - val_acc: 0.9917\n",
      "Epoch 26/70\n",
      "37800/37800 [==============================] - 3s 67us/sample - loss: 0.0039 - acc: 0.9990 - val_loss: 0.1035 - val_acc: 0.9886\n",
      "Epoch 27/70\n",
      "37800/37800 [==============================] - 3s 67us/sample - loss: 0.0045 - acc: 0.9991 - val_loss: 0.0936 - val_acc: 0.9898\n",
      "Epoch 28/70\n",
      "37800/37800 [==============================] - 3s 68us/sample - loss: 0.0032 - acc: 0.9992 - val_loss: 0.0864 - val_acc: 0.9910\n",
      "Epoch 29/70\n",
      "37800/37800 [==============================] - 3s 68us/sample - loss: 0.0021 - acc: 0.9995 - val_loss: 0.1327 - val_acc: 0.9907\n",
      "Epoch 30/70\n",
      "37800/37800 [==============================] - 3s 67us/sample - loss: 0.0053 - acc: 0.9989 - val_loss: 0.1116 - val_acc: 0.9902\n",
      "Epoch 31/70\n",
      "37800/37800 [==============================] - 3s 67us/sample - loss: 0.0023 - acc: 0.9996 - val_loss: 0.1501 - val_acc: 0.9895\n",
      "Epoch 32/70\n",
      "37800/37800 [==============================] - 3s 67us/sample - loss: 0.0045 - acc: 0.9991 - val_loss: 0.1225 - val_acc: 0.9919\n",
      "Epoch 33/70\n",
      "37800/37800 [==============================] - 3s 68us/sample - loss: 0.0032 - acc: 0.9994 - val_loss: 0.1130 - val_acc: 0.9893\n",
      "Epoch 34/70\n",
      "37800/37800 [==============================] - 3s 67us/sample - loss: 0.0029 - acc: 0.9994 - val_loss: 0.1153 - val_acc: 0.9902\n",
      "Epoch 35/70\n",
      "37800/37800 [==============================] - 3s 68us/sample - loss: 0.0023 - acc: 0.9995 - val_loss: 0.1208 - val_acc: 0.9914\n",
      "Epoch 36/70\n",
      "37800/37800 [==============================] - 3s 68us/sample - loss: 0.0010 - acc: 0.9998 - val_loss: 0.1087 - val_acc: 0.9893\n",
      "Epoch 37/70\n",
      "37800/37800 [==============================] - 3s 68us/sample - loss: 0.0031 - acc: 0.9994 - val_loss: 0.1179 - val_acc: 0.9917\n",
      "Epoch 38/70\n",
      "37800/37800 [==============================] - 3s 67us/sample - loss: 0.0031 - acc: 0.9995 - val_loss: 0.1041 - val_acc: 0.9912\n",
      "Epoch 39/70\n",
      "37800/37800 [==============================] - 3s 68us/sample - loss: 0.0012 - acc: 0.9998 - val_loss: 0.1297 - val_acc: 0.9905\n",
      "Epoch 40/70\n",
      "37800/37800 [==============================] - 3s 68us/sample - loss: 0.0012 - acc: 0.9996 - val_loss: 0.1179 - val_acc: 0.9914\n",
      "Epoch 41/70\n",
      "37800/37800 [==============================] - 3s 69us/sample - loss: 0.0031 - acc: 0.9995 - val_loss: 0.1373 - val_acc: 0.9893\n",
      "Epoch 42/70\n",
      "37800/37800 [==============================] - 3s 67us/sample - loss: 0.0024 - acc: 0.9996 - val_loss: 0.1450 - val_acc: 0.9902\n",
      "Epoch 43/70\n",
      "37800/37800 [==============================] - 3s 67us/sample - loss: 0.0037 - acc: 0.9994 - val_loss: 0.1651 - val_acc: 0.9905\n",
      "Epoch 44/70\n",
      "37800/37800 [==============================] - 3s 67us/sample - loss: 0.0028 - acc: 0.9996 - val_loss: 0.1314 - val_acc: 0.9910\n",
      "Epoch 45/70\n",
      "37800/37800 [==============================] - 3s 68us/sample - loss: 0.0018 - acc: 0.9997 - val_loss: 0.2145 - val_acc: 0.9902\n",
      "Epoch 46/70\n",
      "37800/37800 [==============================] - 3s 69us/sample - loss: 0.0020 - acc: 0.9994 - val_loss: 0.1472 - val_acc: 0.9910\n",
      "Epoch 47/70\n",
      "37800/37800 [==============================] - 3s 67us/sample - loss: 0.0026 - acc: 0.9996 - val_loss: 0.1820 - val_acc: 0.9900\n",
      "Epoch 48/70\n",
      "37800/37800 [==============================] - 3s 67us/sample - loss: 0.0017 - acc: 0.9997 - val_loss: 0.1416 - val_acc: 0.9910\n",
      "Epoch 49/70\n",
      "37800/37800 [==============================] - 3s 68us/sample - loss: 0.0018 - acc: 0.9997 - val_loss: 0.1647 - val_acc: 0.9905\n",
      "Epoch 50/70\n",
      "37800/37800 [==============================] - 3s 68us/sample - loss: 0.0024 - acc: 0.9996 - val_loss: 0.1764 - val_acc: 0.9900\n",
      "Epoch 51/70\n",
      "37800/37800 [==============================] - 3s 68us/sample - loss: 0.0035 - acc: 0.9994 - val_loss: 0.1684 - val_acc: 0.9921\n",
      "Epoch 52/70\n",
      "37800/37800 [==============================] - 3s 68us/sample - loss: 0.0030 - acc: 0.9995 - val_loss: 0.1269 - val_acc: 0.9907\n",
      "Epoch 53/70\n",
      "37800/37800 [==============================] - 3s 68us/sample - loss: 0.0012 - acc: 0.9998 - val_loss: 0.1401 - val_acc: 0.9907\n",
      "Epoch 54/70\n",
      "37800/37800 [==============================] - 3s 67us/sample - loss: 0.0012 - acc: 0.9998 - val_loss: 0.1857 - val_acc: 0.9907\n",
      "Epoch 55/70\n",
      "37800/37800 [==============================] - 3s 68us/sample - loss: 0.0012 - acc: 0.9999 - val_loss: 0.1822 - val_acc: 0.9910\n",
      "Epoch 56/70\n",
      "37800/37800 [==============================] - 3s 67us/sample - loss: 0.0020 - acc: 0.9997 - val_loss: 0.1457 - val_acc: 0.9905\n",
      "Epoch 57/70\n",
      "37800/37800 [==============================] - 3s 68us/sample - loss: 0.0030 - acc: 0.9997 - val_loss: 0.1781 - val_acc: 0.9914\n",
      "Epoch 58/70\n",
      "37800/37800 [==============================] - 3s 67us/sample - loss: 0.0021 - acc: 0.9997 - val_loss: 0.1474 - val_acc: 0.9905\n",
      "Epoch 59/70\n",
      "37800/37800 [==============================] - 3s 68us/sample - loss: 0.0016 - acc: 0.9998 - val_loss: 0.1421 - val_acc: 0.9905\n",
      "Epoch 60/70\n",
      "37800/37800 [==============================] - 3s 67us/sample - loss: 0.0019 - acc: 0.9997 - val_loss: 0.1666 - val_acc: 0.9888\n",
      "Epoch 61/70\n",
      "37800/37800 [==============================] - 3s 67us/sample - loss: 0.0022 - acc: 0.9996 - val_loss: 0.2005 - val_acc: 0.9890\n",
      "Epoch 62/70\n",
      "37800/37800 [==============================] - 3s 67us/sample - loss: 0.0027 - acc: 0.9995 - val_loss: 0.1921 - val_acc: 0.9893\n",
      "Epoch 63/70\n",
      "37800/37800 [==============================] - 3s 67us/sample - loss: 0.0019 - acc: 0.9997 - val_loss: 0.1539 - val_acc: 0.9917\n",
      "Epoch 64/70\n",
      "37800/37800 [==============================] - 3s 68us/sample - loss: 0.0012 - acc: 0.9998 - val_loss: 0.1867 - val_acc: 0.9914\n",
      "Epoch 65/70\n",
      "37800/37800 [==============================] - 3s 67us/sample - loss: 8.6394e-04 - acc: 0.9999 - val_loss: 0.1558 - val_acc: 0.9912\n",
      "Epoch 66/70\n",
      "37800/37800 [==============================] - 3s 68us/sample - loss: 0.0014 - acc: 0.9997 - val_loss: 0.1578 - val_acc: 0.9917\n",
      "Epoch 67/70\n",
      "37800/37800 [==============================] - 3s 68us/sample - loss: 0.0059 - acc: 0.9995 - val_loss: 0.1483 - val_acc: 0.9910\n",
      "Epoch 68/70\n",
      "37800/37800 [==============================] - 3s 68us/sample - loss: 0.0021 - acc: 0.9997 - val_loss: 0.1749 - val_acc: 0.9912\n",
      "Epoch 69/70\n",
      "37800/37800 [==============================] - 3s 68us/sample - loss: 6.1121e-04 - acc: 0.9999 - val_loss: 0.2141 - val_acc: 0.9907\n",
      "Epoch 70/70\n",
      "37800/37800 [==============================] - 3s 67us/sample - loss: 0.0012 - acc: 0.9998 - val_loss: 0.1940 - val_acc: 0.9905\n"
     ]
    },
    {
     "data": {
      "text/plain": [
       "<tensorflow.python.keras.callbacks.History at 0x7fc8a0239a90>"
      ]
     },
     "execution_count": 18,
     "metadata": {},
     "output_type": "execute_result"
    }
   ],
   "source": [
    "model.fit(X_train, Y_train, batch_size = 86, epochs =70, validation_data = (X_val, Y_val), verbose = 1)"
   ]
  },
  {
   "cell_type": "code",
   "execution_count": 19,
   "metadata": {},
   "outputs": [],
   "source": [
    "results = model.predict(test)\n",
    "results = np.argmax(results,axis = 1)\n",
    "results = pd.Series(results,name=\"Label\")\n",
    "submission = pd.concat([pd.Series(range(1,28001),name = \"ImageId\"),results],axis = 1)\n",
    "submission.to_csv(\"cnn_third.csv\",index=False)"
   ]
  },
  {
   "cell_type": "code",
   "execution_count": null,
   "metadata": {},
   "outputs": [],
   "source": []
  }
 ],
 "metadata": {
  "kernelspec": {
   "display_name": "Python 3",
   "language": "python",
   "name": "python3"
  },
  "language_info": {
   "codemirror_mode": {
    "name": "ipython",
    "version": 3
   },
   "file_extension": ".py",
   "mimetype": "text/x-python",
   "name": "python",
   "nbconvert_exporter": "python",
   "pygments_lexer": "ipython3",
   "version": "3.6.6"
  }
 },
 "nbformat": 4,
 "nbformat_minor": 1
}
